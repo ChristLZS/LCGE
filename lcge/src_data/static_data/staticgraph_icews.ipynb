{
 "cells": [
  {
   "cell_type": "code",
   "execution_count": 20,
   "metadata": {},
   "outputs": [
    {
     "name": "stdout",
     "output_type": "stream",
     "text": [
      "the amount of triples is:\t 415237\n"
     ]
    }
   ],
   "source": [
    "f = open(\"../../src_data/ICEWS05-15/train\", encoding='utf-8')\n",
    "triple = []\n",
    "for line in f:\n",
    "    e1, r, e2, time = line.split(\"\\t\")\n",
    "    triple.append(e1 + \"\\t\" + r + \"\\t\" + e2 + \"\\n\")\n",
    "f.close()\n",
    "\n",
    "f = open(\"../../src_data/ICEWS05-15/valid\", encoding='utf-8')\n",
    "for line in f:\n",
    "    e1, r, e2, time = line.split(\"\\t\")\n",
    "    triple.append(e1 + \"\\t\" + r + \"\\t\" + e2 + \"\\n\")\n",
    "f.close()\n",
    "\n",
    "f_save = open(\"../rulelearning/ICEWS05-15/triples.tsv\", 'w', encoding='utf-8')\n",
    "count = 0\n",
    "for tri in triple:\n",
    "    f_save.write(tri)\n",
    "    count += 1\n",
    "print(\"the amount of triples is:\\t\", count)\n",
    "f_save.close()"
   ]
  },
  {
   "cell_type": "code",
   "execution_count": 21,
   "metadata": {},
   "outputs": [
    {
     "name": "stdout",
     "output_type": "stream",
     "text": [
      "the amount of triples is:\t 81767\n"
     ]
    }
   ],
   "source": [
    "f = open(\"../../src_data/ICEWS14/train\", encoding='utf-8')\n",
    "triple = []\n",
    "for line in f:\n",
    "    parts = line.strip().split(\"\\t\")\n",
    "    if len(parts) >= 3:  # 至少需要有前3个字段\n",
    "       e1, r, e2 = parts[:3]  # 取前3个字段\n",
    "       triple.append(e1 + \"\\t\" + r + \"\\t\" + e2 + \"\\n\")\n",
    "    else:\n",
    "        print(\"Skipping line with insufficient fields:\", line)\n",
    "f.close()\n",
    "\n",
    "f = open(\"../../src_data/ICEWS14/valid\", encoding='utf-8')\n",
    "for line in f:\n",
    "    parts = line.strip().split(\"\\t\")\n",
    "    if len(parts) >= 3:  # 至少需要有前3个字段\n",
    "       e1, r, e2 = parts[:3]  # 取前3个字段\n",
    "       triple.append(e1 + \"\\t\" + r + \"\\t\" + e2 + \"\\n\")\n",
    "    else:\n",
    "        print(\"Skipping line with insufficient fields:\", line)\n",
    "f.close()\n",
    "\n",
    "f_save = open(\"../rulelearning/ICEWS14/triples.tsv\", 'w', encoding='utf-8')\n",
    "count = 0\n",
    "for tri in triple:\n",
    "    f_save.write(tri)\n",
    "    count += 1\n",
    "print(\"the amount of triples is:\\t\", count)\n",
    "f_save.close()"
   ]
  },
  {
   "cell_type": "code",
   "execution_count": null,
   "metadata": {},
   "outputs": [],
   "source": []
  }
 ],
 "metadata": {
  "kernelspec": {
   "display_name": "Python 3 (ipykernel)",
   "language": "python",
   "name": "python3"
  },
  "language_info": {
   "codemirror_mode": {
    "name": "ipython",
    "version": 3
   },
   "file_extension": ".py",
   "mimetype": "text/x-python",
   "name": "python",
   "nbconvert_exporter": "python",
   "pygments_lexer": "ipython3",
   "version": "3.10.11"
  }
 },
 "nbformat": 4,
 "nbformat_minor": 4
}
