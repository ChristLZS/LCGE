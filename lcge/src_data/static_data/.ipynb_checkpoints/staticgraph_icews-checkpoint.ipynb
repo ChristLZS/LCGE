{
 "cells": [
  {
   "cell_type": "code",
   "execution_count": 16,
   "metadata": {},
   "outputs": [
    {
     "name": "stdout",
     "output_type": "stream",
     "text": [
      "the amount of triples is:\t 415237\n"
     ]
    }
   ],
   "source": [
    "f = open(\"../../src_data/ICEWS05-15/train\", encoding='utf-8')\n",
    "triple = []\n",
    "for line in f:\n",
    "    e1, r, e2, time = line.split(\"\\t\")\n",
    "    triple.append(e1 + \"\\t\" + r + \"\\t\" + e2 + \"\\n\")\n",
    "f.close()\n",
    "\n",
    "f = open(\"../../src_data/ICEWS05-15/valid\", encoding='utf-8')\n",
    "for line in f:\n",
    "    e1, r, e2, time = line.split(\"\\t\")\n",
    "    triple.append(e1 + \"\\t\" + r + \"\\t\" + e2 + \"\\n\")\n",
    "f.close()\n",
    "\n",
    "f_save = open(\"../rulelearning/ICEWS05-15/triples.tsv\", 'w', encoding='utf-8')\n",
    "count = 0\n",
    "for tri in triple:\n",
    "    f_save.write(tri)\n",
    "    count += 1\n",
    "print(\"the amount of triples is:\\t\", count)\n",
    "f_save.close()"
   ]
  },
  {
   "cell_type": "code",
   "execution_count": 17,
   "metadata": {},
   "outputs": [
    {
     "ename": "ValueError",
     "evalue": "not enough values to unpack (expected 5, got 4)",
     "output_type": "error",
     "traceback": [
      "\u001b[1;31m---------------------------------------------------------------------------\u001b[0m",
      "\u001b[1;31mValueError\u001b[0m                                Traceback (most recent call last)",
      "Cell \u001b[1;32mIn[17], line 14\u001b[0m\n\u001b[0;32m     12\u001b[0m f \u001b[38;5;241m=\u001b[39m \u001b[38;5;28mopen\u001b[39m(\u001b[38;5;124m\"\u001b[39m\u001b[38;5;124m../../src_data/ICEWS14/valid\u001b[39m\u001b[38;5;124m\"\u001b[39m, encoding\u001b[38;5;241m=\u001b[39m\u001b[38;5;124m'\u001b[39m\u001b[38;5;124mutf-8\u001b[39m\u001b[38;5;124m'\u001b[39m)\n\u001b[0;32m     13\u001b[0m \u001b[38;5;28;01mfor\u001b[39;00m line \u001b[38;5;129;01min\u001b[39;00m f:\n\u001b[1;32m---> 14\u001b[0m     e1, r, e2, _, _ \u001b[38;5;241m=\u001b[39m line\u001b[38;5;241m.\u001b[39msplit(\u001b[38;5;124m\"\u001b[39m\u001b[38;5;130;01m\\t\u001b[39;00m\u001b[38;5;124m\"\u001b[39m)\n\u001b[0;32m     15\u001b[0m     triple\u001b[38;5;241m.\u001b[39mappend(e1 \u001b[38;5;241m+\u001b[39m \u001b[38;5;124m\"\u001b[39m\u001b[38;5;130;01m\\t\u001b[39;00m\u001b[38;5;124m\"\u001b[39m \u001b[38;5;241m+\u001b[39m r \u001b[38;5;241m+\u001b[39m \u001b[38;5;124m\"\u001b[39m\u001b[38;5;130;01m\\t\u001b[39;00m\u001b[38;5;124m\"\u001b[39m \u001b[38;5;241m+\u001b[39m e2 \u001b[38;5;241m+\u001b[39m \u001b[38;5;124m\"\u001b[39m\u001b[38;5;130;01m\\n\u001b[39;00m\u001b[38;5;124m\"\u001b[39m)\n\u001b[0;32m     16\u001b[0m f\u001b[38;5;241m.\u001b[39mclose()\n",
      "\u001b[1;31mValueError\u001b[0m: not enough values to unpack (expected 5, got 4)"
     ]
    }
   ],
   "source": [
    "f = open(\"../../src_data/ICEWS14/train\", encoding='utf-8')\n",
    "triple = []\n",
    "for line in f:\n",
    "    parts = line.strip().split(\"\\t\")\n",
    "    if len(parts) >= 3:  # 至少需要有前3个字段\n",
    "       e1, r, e2 = parts[:3]  # 取前3个字段\n",
    "       triple.append(e1 + \"\\t\" + r + \"\\t\" + e2 + \"\\n\")\n",
    "    else:\n",
    "        print(\"Skipping line with insufficient fields:\", line)\n",
    "f.close()\n",
    "\n",
    "f = open(\"../../src_data/ICEWS14/valid\", encoding='utf-8')\n",
    "for line in f:\n",
    "    parts = line.strip().split(\"\\t\")\n",
    "    if len(parts) >= 3:  # 至少需要有前3个字段\n",
    "       e1, r, e2 = parts[:3]  # 取前3个字段\n",
    "       triple.append(e1 + \"\\t\" + r + \"\\t\" + e2 + \"\\n\")\n",
    "    else:\n",
    "        print(\"Skipping line with insufficient fields:\", line)\n",
    "f.close()\n",
    "\n",
    "f_save = open(\"../rulelearning/ICEWS14/triples.tsv\", 'w', encoding='utf-8')\n",
    "count = 0\n",
    "for tri in triple:\n",
    "    f_save.write(tri)\n",
    "    count += 1\n",
    "print(\"the amount of triples is:\\t\", count)\n",
    "f_save.close()"
   ]
  },
  {
   "cell_type": "code",
   "execution_count": null,
   "metadata": {},
   "outputs": [],
   "source": []
  }
 ],
 "metadata": {
  "kernelspec": {
   "display_name": "Python 3 (ipykernel)",
   "language": "python",
   "name": "python3"
  },
  "language_info": {
   "codemirror_mode": {
    "name": "ipython",
    "version": 3
   },
   "file_extension": ".py",
   "mimetype": "text/x-python",
   "name": "python",
   "nbconvert_exporter": "python",
   "pygments_lexer": "ipython3",
   "version": "3.10.11"
  }
 },
 "nbformat": 4,
 "nbformat_minor": 4
}
